{
 "cells": [
  {
   "cell_type": "markdown",
   "id": "af6e2899-d46a-448b-9bce-c666cb69518f",
   "metadata": {},
   "source": [
    "Here presented most popular classification metrics with their calculation formulas and may be some comments on it"
   ]
  },
  {
   "cell_type": "markdown",
   "id": "9a78eb55-ef4e-4c57-af0b-030a12b26b7e",
   "metadata": {},
   "source": [
    "[article with good analytics for Acc, Prec, Rec](https://www.evidentlyai.com/classification-metrics/accuracy-precision-recall)"
   ]
  },
  {
   "cell_type": "markdown",
   "id": "62b9b33c-c319-4fa4-80b2-8aaa4136ad4b",
   "metadata": {},
   "source": [
    "# Binary classification"
   ]
  },
  {
   "cell_type": "markdown",
   "id": "a2a558af-fe0b-4e6a-9103-83cdb280319e",
   "metadata": {},
   "source": [
    "In binary classification metrics calculation confusion matrix is often used. So, here it is:\n",
    "\n",
    "<div>\n",
    "<img src=\"https://i.ytimg.com/vi/eQrkcFUWhJI/maxresdefault.jpg\" width=\"500\"/>\n",
    "</div>\n"
   ]
  },
  {
   "cell_type": "markdown",
   "id": "428947b4-9a26-40ff-b34a-f1a4e03e5b14",
   "metadata": {},
   "source": [
    "- ***TP*** (True positives) - objects of the ***positive*** class, classified ***correctly***\n",
    "- ***FP*** (False positives) - objects of the ***positive*** class, classified ***incorrectly***\n",
    "- ***FN*** (False negative) - objects of the ***negative*** class, classified ***incorrectly***\n",
    "- ***TN*** (True negative) - objects of the ***negative*** class, classified ***correctly***\n"
   ]
  },
  {
   "cell_type": "markdown",
   "id": "05204e0f-30b5-4104-9f5a-77d77814bc20",
   "metadata": {},
   "source": [
    "## Accuracy"
   ]
  },
  {
   "cell_type": "markdown",
   "id": "bb472725-7efe-411a-bb2c-192ffd799fb5",
   "metadata": {},
   "source": [
    "Accuracy - number of correctly classified objects devided by number of objects\n",
    "$$Accuracy = \\frac{TP+TN}{TP+FP+FN+TN}$$ \n"
   ]
  },
  {
   "cell_type": "markdown",
   "id": "326025d4-28e4-483c-badf-e05da67c8fbc",
   "metadata": {},
   "source": [
    "## Precision/Recall\n",
    "***Precision*** -  measures how often a machine learning model correctly predicts the positive class (among all positive prediction)\n",
    "\n",
    "***Recall*** - measures how often a machine learning model correctly identifies positive instances (true positives) from all the actual positive samples in the dataset"
   ]
  },
  {
   "cell_type": "markdown",
   "id": "96b9b949-fcda-4764-90c7-35c6e48ef61b",
   "metadata": {},
   "source": [
    "$$Precision = \\frac{TP}{TP+FP}$$ \n",
    "$$Recall = \\frac{TP}{TP+FN}$$ "
   ]
  },
  {
   "cell_type": "markdown",
   "id": "d89ffbf1-a202-4868-9a2c-9dd46c8c6dcc",
   "metadata": {},
   "source": [
    "## F1-score\n",
    "***F1 score*** is the ***harmonic mean of precision and recall***, which means that the F1 score will tell you the ***model’s balanced ability to both capture positive cases (recall) and be accurate with the cases it does capture (precision)***"
   ]
  },
  {
   "cell_type": "markdown",
   "id": "6d59e648-e977-428f-9c2e-363f70fe937e",
   "metadata": {},
   "source": [
    "$$F1 = 2\\frac{Precision*Recall}{Precision+Recall} = \\frac{2*TP}{2*TP+FN+FP}$$ "
   ]
  },
  {
   "cell_type": "markdown",
   "id": "6dca88a0-cd14-4c85-9f05-ee3137be9ef6",
   "metadata": {},
   "source": [
    "## $F_{\\beta}$\n",
    "There are situations, when we need to more pay attention to Recall or Precision. For example, when it comes to cancer diagnosis it's much more important to catch these, who really has a cancer. Thus, we need to maximise presicion."
   ]
  },
  {
   "cell_type": "markdown",
   "id": "02ddecf7-c7cc-47fd-bdfb-3b0cfc170159",
   "metadata": {},
   "source": [
    "$$F_{\\beta} = (1+\\beta^2)\\frac{Precision*Recall}{\\beta^2Precision+Recall} = \\frac{(1+\\beta^2)*TP}{(1+\\beta^2)*TP+\\beta^2*FN+FP}$$ \n",
    "\n",
    "- $\\beta<0$: precision is more important than recall\n",
    "- $\\beta>0$: recall is more important than precision"
   ]
  },
  {
   "cell_type": "markdown",
   "id": "488c8bf7-cf9e-49e7-86c5-2bf0750f2276",
   "metadata": {},
   "source": [
    "## Precision-Recall Curve"
   ]
  },
  {
   "cell_type": "markdown",
   "id": "92e67a33-94c6-4696-aac1-4b2b6dc76ac4",
   "metadata": {},
   "source": [
    "## ROC Curve"
   ]
  }
 ],
 "metadata": {
  "kernelspec": {
   "display_name": "Python 3 (ipykernel)",
   "language": "python",
   "name": "python3"
  },
  "language_info": {
   "codemirror_mode": {
    "name": "ipython",
    "version": 3
   },
   "file_extension": ".py",
   "mimetype": "text/x-python",
   "name": "python",
   "nbconvert_exporter": "python",
   "pygments_lexer": "ipython3",
   "version": "3.10.13"
  }
 },
 "nbformat": 4,
 "nbformat_minor": 5
}
