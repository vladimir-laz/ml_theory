{
 "cells": [
  {
   "cell_type": "markdown",
   "id": "d59869df-ecfc-408b-920c-bccc04a45455",
   "metadata": {},
   "source": [
    "Here presented most popular regression metrics with their calculation formulas and may be some comments on it"
   ]
  },
  {
   "cell_type": "markdown",
   "id": "82285e33-a292-4974-bf3d-08955ae3d79d",
   "metadata": {},
   "source": [
    "## MAE\n",
    "Mean absolute error"
   ]
  },
  {
   "cell_type": "markdown",
   "id": "fde58470-de90-4c02-87f5-90e87c58fa7a",
   "metadata": {},
   "source": [
    "$$MAE = \\frac{\\sum^n_{i=1}|y_i-\\hat{y_i}|}{n}$$ \n",
    "- n - number of objects\n",
    "- $y_i$ - prediction value\n",
    "- $\\hat{y_i}$ - target value"
   ]
  },
  {
   "cell_type": "markdown",
   "id": "b47bd17a-a7a2-4fe3-a516-06edcd796332",
   "metadata": {},
   "source": [
    "## MSE\n",
    "Mean squared error"
   ]
  },
  {
   "cell_type": "markdown",
   "id": "e2d6eb96-bb48-44b3-979e-4565bfccd3db",
   "metadata": {},
   "source": [
    "$$MSE = \\frac{\\sum^n_{i=1}(y_i-\\hat{y_i})^2}{n}$$ \n",
    "- n - number of objects\n",
    "- $y_i$ - prediction value\n",
    "- $\\hat{y_i}$ - target value"
   ]
  },
  {
   "cell_type": "markdown",
   "id": "b7a64df3-e194-4763-a805-bca516cc9cba",
   "metadata": {},
   "source": [
    "## RMSE\n",
    "Root mean squared error"
   ]
  },
  {
   "cell_type": "markdown",
   "id": "64ac0cb1-293d-4853-a749-11ec0331755e",
   "metadata": {},
   "source": [
    "$$RMSE = \\sqrt{\\frac{\\sum^n_{i=1}(y_i-\\hat{y_i})^2}{n}}$$ \n",
    "- n - number of objects\n",
    "- $y_i$ - prediction value\n",
    "- $\\hat{y_i}$ - target value"
   ]
  },
  {
   "cell_type": "markdown",
   "id": "92db63ff-6afe-49e8-89bb-0981da97d6e0",
   "metadata": {},
   "source": [
    "## MAPE\n",
    "Mean absolute persentage error"
   ]
  },
  {
   "cell_type": "markdown",
   "id": "a0f2864e-98bb-47c0-b8ec-1ae3f1030221",
   "metadata": {},
   "source": [
    "$$RMSE = \\frac{1}{n}\\frac{\\sum^n_{i=1}|y_i-\\hat{y_i}|}{\\hat{y_i}}$$ \n",
    "- n - number of objects\n",
    "- $y_i$ - prediction value\n",
    "- $\\hat{y_i}$ - target value"
   ]
  },
  {
   "cell_type": "markdown",
   "id": "52ccc20f-4ea3-44b1-88f3-cee67378179d",
   "metadata": {},
   "source": [
    "## R-squared\n",
    "\n",
    "R Squared can be interpreted as the percentage of the dependent variable variance which is explained by the independent variables"
   ]
  },
  {
   "cell_type": "markdown",
   "id": "410befe1-2fa0-478d-bbd0-2fd90de7369a",
   "metadata": {},
   "source": [
    "$$R^2 = 1 - \\frac{\\sum^n_{i=1}(\\hat{y_i}-\\overline{y_i})^2}{\\sum^n_{i=1}(y_i-\\overline{y_i})^2}$$ \n",
    "- n - number of objects\n",
    "- $y_i$ - prediction value\n",
    "- $\\hat{y_i}$ - target value\n",
    "- $\\overline{y_i}$ - mean predicted value"
   ]
  },
  {
   "cell_type": "markdown",
   "id": "89eb0918-bf15-48fe-a66d-ba8b011b99b5",
   "metadata": {},
   "source": [
    "R-squared values interpretation:\n",
    "\n",
    "<style type=\"text/css\">\n",
    ".tg  {border-collapse:collapse;border-spacing:0;}\n",
    ".tg td{border-color:black;border-style:solid;border-width:1px;font-family:Arial, sans-serif;font-size:14px;\n",
    "  overflow:hidden;padding:10px 5px;word-break:normal;}\n",
    ".tg th{border-color:black;border-style:solid;border-width:1px;font-family:Arial, sans-serif;font-size:14px;\n",
    "  font-weight:normal;overflow:hidden;padding:10px 5px;word-break:normal;}\n",
    ".tg .tg-q26f{border-color:inherit;color:#000C2D;text-align:left;vertical-align:top}\n",
    ".tg .tg-767q{border-color:inherit;color:#000C2D;font-weight:bold;text-align:left;vertical-align:top}\n",
    ".tg .tg-0pky{border-color:inherit;text-align:left;vertical-align:top}\n",
    "</style>\n",
    "<table class=\"tg\">\n",
    "<thead>\n",
    "  <tr>\n",
    "    <th class=\"tg-767q\">R Squared value</th>\n",
    "    <th class=\"tg-767q\">Interpretation</th>\n",
    "    <th class=\"tg-0pky\"></th>\n",
    "    <th class=\"tg-0pky\"></th>\n",
    "    <th class=\"tg-0pky\"></th>\n",
    "  </tr>\n",
    "</thead>\n",
    "<tbody>\n",
    "  <tr>\n",
    "    <td class=\"tg-q26f\">0.75 - 1</td>\n",
    "    <td class=\"tg-q26f\">Significant amount of variance explained</td>\n",
    "    <td class=\"tg-0pky\"></td>\n",
    "    <td class=\"tg-0pky\"></td>\n",
    "    <td class=\"tg-0pky\"></td>\n",
    "  </tr>\n",
    "  <tr>\n",
    "    <td class=\"tg-q26f\">0.5 - 0.75</td>\n",
    "    <td class=\"tg-q26f\">Good amount of variance explained</td>\n",
    "    <td class=\"tg-0pky\"></td>\n",
    "    <td class=\"tg-0pky\"></td>\n",
    "    <td class=\"tg-0pky\"></td>\n",
    "  </tr>\n",
    "  <tr>\n",
    "    <td class=\"tg-q26f\">0.25 - 0.5</td>\n",
    "    <td class=\"tg-q26f\">Small amount of variance explained</td>\n",
    "    <td class=\"tg-0pky\"></td>\n",
    "    <td class=\"tg-0pky\"></td>\n",
    "    <td class=\"tg-0pky\"></td>\n",
    "  </tr>\n",
    "  <tr>\n",
    "    <td class=\"tg-q26f\">0 - 0.25</td>\n",
    "    <td class=\"tg-q26f\">Little to no variance explained</td>\n",
    "    <td class=\"tg-0pky\"></td>\n",
    "    <td class=\"tg-0pky\"></td>\n",
    "    <td class=\"tg-0pky\"></td>\n",
    "  </tr>\n",
    "</tbody>\n",
    "</table>"
   ]
  }
 ],
 "metadata": {
  "kernelspec": {
   "display_name": "Python 3 (ipykernel)",
   "language": "python",
   "name": "python3"
  },
  "language_info": {
   "codemirror_mode": {
    "name": "ipython",
    "version": 3
   },
   "file_extension": ".py",
   "mimetype": "text/x-python",
   "name": "python",
   "nbconvert_exporter": "python",
   "pygments_lexer": "ipython3",
   "version": "3.10.13"
  }
 },
 "nbformat": 4,
 "nbformat_minor": 5
}
