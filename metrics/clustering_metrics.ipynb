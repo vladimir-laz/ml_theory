{
 "cells": [
  {
   "cell_type": "markdown",
   "id": "29b3299e-3188-43ec-96c7-9a4522297048",
   "metadata": {},
   "source": [
    "# Metrics"
   ]
  },
  {
   "cell_type": "markdown",
   "id": "8b20a2a2-c9ca-49e2-a65f-81b531874c7b",
   "metadata": {},
   "source": [
    "## Silhouette Score\n",
    "\n",
    "Silhouette Score is the mean Silhouette Coefficient for all clusters, which is calculated using the mean intra-cluster distance and the mean nearest-cluster distance. This score is between -1 and 1, where the higher the score the more well-defined and distinct your clusters are\n",
    "\n",
    "***a***: mean distance between the observation and all other data points in the ***same cluster***. This distance can also be called as ***mean intra-cluster distance***\n",
    "\n",
    "***b***: mean distance between the observation and all other data points of the next ***nearest cluster***. This distance can also be called as ***mean nearest-cluster distance***\n",
    "$$S = \\frac{b-a}{max(a, b)}$$"
   ]
  },
  {
   "cell_type": "markdown",
   "id": "c91a6165-ab56-4fff-ba58-fb48be3f7533",
   "metadata": {},
   "source": [
    "## Calinski-Harabaz Index\n",
    "Calinski-Harabaz Index is calculated using the between-cluster dispersion and within-cluster dispersion in order to measure the distinctiveness between groups. Like the Silhouette Score, the higher the score the more well-defined the clusters are. This score has no bound, meaning that there is no ‘acceptable’ or ‘good’ value\n",
    "\n",
    "1. Calculate inter-cluster dispersion: BGSS(between group sum of squares)\n",
    "$$BGSS = \\sum_{k=1}^K{n_k * ||C_k-C||^2}$$\n",
    "- $𝑛_𝑘$ : the number of observations in cluster 𝑘\n",
    "- $𝐶_𝑘$ : the centroid of cluster 𝑘\n",
    "- 𝐶 : the centroid of the dataset (barycenter)\n",
    "- 𝐾 : the number of clusters\n",
    "\n",
    "2. Calculate intra-cluster dispersion: WGSS(within group sum of squares).\n",
    "$$WGSS_k = \\sum_{k=1}^{n_k}{||X_{ik}-C_k||^2}$$\n",
    "- $𝑛_𝑘$ : the number of observations in cluster 𝑘\n",
    "- $𝑋_{𝑖𝑘}$ : the 𝑖-th observation of cluster 𝑘\n",
    "- $𝐶_𝑘$ : the centroid of cluster 𝑘\n",
    "\n",
    "Then sum all individual within group sums of squares: \n",
    "$$WGSS = \\sum_{k=1}^{K}{WGSS_k}$$\n",
    "\n",
    "3. Calculate Calinski-Harabasz Index\n",
    "$$𝐶𝐻 = \\frac{\\frac{BGSS}{K-1}}{\\frac{WGSS}{N-K}} = \\frac{BGSS}{WGSS}*\\frac{N-K}{K-1}$$\n",
    "- 𝐵𝐺𝑆𝑆 : between-group sum of squares (between-group dispersion)\n",
    "- 𝑊𝐺𝑆𝑆 : within-group sum of squares (within-group dispersion)\n",
    "- 𝑁 : total number of observations\n",
    "- 𝐾 : total number of clusters"
   ]
  },
  {
   "cell_type": "markdown",
   "id": "cd7eb076-b900-44b2-8a54-236c4574bd16",
   "metadata": {
    "jp-MarkdownHeadingCollapsed": true
   },
   "source": [
    "## Davies-Bouldin Index\n",
    "Davies-Bouldin Index is the average similarity of each cluster with its most similar cluster. Unlike the previous two metrics, this score measures the similarity of your clusters, meaning that the lower the score the better separation there is between your clusters?\n",
    "\n",
    "1. Calculate intra-cluster dispersion:\n",
    "$$S_i = \\Bigg\\{\\frac{1}{n_i} \\sum_{j=1}^{T_i} |X_j – C_i|^q \\Bigg\\}^\\frac{1}{q}$$\n",
    "- 𝑖 : particular identified cluster\n",
    "- n_𝑖 : number of vectors (observations) in cluster 𝑖\n",
    "- 𝑋_𝑗 : 𝑗-th vector (observation) in cluster 𝑖\n",
    "- C_𝑖 : centroid of cluster 𝑖\n",
    "- q: hyperparameter. Usually the value 𝑞 is set to 2\n",
    "\n",
    "2. Calculate separation measure:\n",
    "$$M_{ij} = \\Bigg\\{\\sum_{k=1}^{N} |a_{ki} – a_{kj}|^p \\Bigg\\}^\\frac{1}{p} = ||A_i – A_j||_p$$\n",
    "- 𝑎_{𝑘𝑖} : 𝑘-th component of 𝑛-dimensional centroid 𝐴𝑖\n",
    "- 𝑎_{𝑘𝑗} : 𝑘-th component of 𝑛-dimensional centroid 𝐴𝑗\n",
    "- 𝑁 : total number of clusters\n",
    "- p: another hyperparameter. Usually the value p is set to 2\n",
    "\n",
    "3. Calculate similarity between clusters:\n",
    "$$R_{ij} = \\frac{S_i + S_j}{M_{ij}}$$\n",
    "- 𝑆_𝑖 : intra-cluster dispersion of cluster 𝑖\n",
    "- 𝑆_𝑗 : intra-cluster dispersion of cluster 𝑗\n",
    "- 𝑀_{𝑖𝑗} : distance between centroids of clusters 𝑖 and  𝑗\n",
    "\n",
    "4. Find most similar cluster for each cluster 𝑖:\n",
    "$$R_i \\equiv max(R_{ij}), i\\neq j$$\n",
    "5. Calculate Davies-Bouldin Index:\n",
    "$$\\bar{R} = \\frac{1}{N}\\sum_{i=1}^{N}R_i$$"
   ]
  }
 ],
 "metadata": {
  "kernelspec": {
   "display_name": "Python 3 (ipykernel)",
   "language": "python",
   "name": "python3"
  },
  "language_info": {
   "codemirror_mode": {
    "name": "ipython",
    "version": 3
   },
   "file_extension": ".py",
   "mimetype": "text/x-python",
   "name": "python",
   "nbconvert_exporter": "python",
   "pygments_lexer": "ipython3",
   "version": "3.10.13"
  }
 },
 "nbformat": 4,
 "nbformat_minor": 5
}
